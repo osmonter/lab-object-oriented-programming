{
 "cells": [
  {
   "cell_type": "markdown",
   "metadata": {},
   "source": [
    "# Before your start:\n",
    "- Read the README.md file\n",
    "- Comment as much as you can and use the resources in the README.md file\n",
    "- Happy learning!"
   ]
  },
  {
   "cell_type": "markdown",
   "metadata": {},
   "source": [
    "# Challenge 1 - Matrix Functions\n",
    "\n",
    "#### We would like to create our own matrix. To make life simple for us, we can represent matrices as a list of lists. For the sake of simplicity, we will assume that the maximum number of dimensions a matrix will have is 2.\n",
    "\n",
    "The most basic thing we would like to do with two matrices is to add them together. To add two matrices, we must perform a number of checks. The first check we would like to perform is whether the matrix is two dimesional. This is because we want to limit ourselves to two dimensional matrices to simplify our problem. In the cell below write a function that checks is a matrix is two dimesional. "
   ]
  },
  {
   "cell_type": "code",
   "execution_count": 117,
   "metadata": {
    "ExecuteTime": {
     "end_time": "2020-01-21T22:50:07.236529Z",
     "start_time": "2020-01-21T22:50:07.229800Z"
    }
   },
   "outputs": [],
   "source": [
    "def twodim(mat):\n",
    "    # This function takes a list of lists and checks that it is of depth 2. \n",
    "    # If the depth is not 2, either return false or return informative errors that let the user know the depth of the list.\n",
    "    # Input: nested list\n",
    "    # Output: Boolean (or error)\n",
    "    # Sample Input: [[1,2,3], [4,5,6]]\n",
    "    # Sample Output: True\n",
    "    \n",
    "    # Your Code Here:\n",
    "    \n",
    "    if len(mat) == 2:\n",
    "        return True\n",
    "    else:\n",
    "        return False\n",
    "    \n",
    "# Si el número de sublistas = 2, return True. Si no, return False."
   ]
  },
  {
   "cell_type": "code",
   "execution_count": 118,
   "metadata": {
    "ExecuteTime": {
     "end_time": "2020-01-21T22:50:07.925715Z",
     "start_time": "2020-01-21T22:50:07.918310Z"
    }
   },
   "outputs": [
    {
     "data": {
      "text/plain": [
       "False"
      ]
     },
     "execution_count": 118,
     "metadata": {},
     "output_type": "execute_result"
    }
   ],
   "source": [
    "twodim([[1,2], [1,2,3],[1,2,3]])"
   ]
  },
  {
   "cell_type": "markdown",
   "metadata": {},
   "source": [
    "# Bonus Challenge 1 - Write the function recursively\n",
    "\n",
    "Rewrite the `twodim` function using recursion. \n",
    "Read more about recursion [here](https://www.cs.utah.edu/~germain/PPS/Topics/recursion.html)\n",
    "\n",
    "Hint: stop your recursion when there are no more lists, this wil be the depth of your matrix. Check that this depth is equal to 2.\n",
    "Second Hint: At every level of the recursion, use the filter function to keep only the members of the list that are lists."
   ]
  },
  {
   "cell_type": "code",
   "execution_count": 120,
   "metadata": {
    "ExecuteTime": {
     "end_time": "2020-01-21T22:50:17.808412Z",
     "start_time": "2020-01-21T22:50:17.796951Z"
    }
   },
   "outputs": [
    {
     "ename": "SyntaxError",
     "evalue": "unexpected EOF while parsing (<ipython-input-120-646199aef86f>, line 2)",
     "output_type": "error",
     "traceback": [
      "\u001b[0;36m  File \u001b[0;32m\"<ipython-input-120-646199aef86f>\"\u001b[0;36m, line \u001b[0;32m2\u001b[0m\n\u001b[0;31m    # Your code here:\u001b[0m\n\u001b[0m                     ^\u001b[0m\n\u001b[0;31mSyntaxError\u001b[0m\u001b[0;31m:\u001b[0m unexpected EOF while parsing\n"
     ]
    }
   ],
   "source": [
    "def twodimrecursive(mat):\n",
    "    # Your code here:"
   ]
  },
  {
   "cell_type": "code",
   "execution_count": 121,
   "metadata": {
    "ExecuteTime": {
     "end_time": "2020-01-21T22:50:18.398088Z",
     "start_time": "2020-01-21T22:50:18.387668Z"
    }
   },
   "outputs": [
    {
     "ename": "NameError",
     "evalue": "name 'twodimrecursive' is not defined",
     "output_type": "error",
     "traceback": [
      "\u001b[0;31m---------------------------------------------------------------------------\u001b[0m",
      "\u001b[0;31mNameError\u001b[0m                                 Traceback (most recent call last)",
      "\u001b[0;32m<ipython-input-121-6ab8bb4c7d5d>\u001b[0m in \u001b[0;36m<module>\u001b[0;34m\u001b[0m\n\u001b[0;32m----> 1\u001b[0;31m \u001b[0mtwodimrecursive\u001b[0m\u001b[0;34m(\u001b[0m\u001b[0;34m[\u001b[0m\u001b[0;34m[\u001b[0m\u001b[0;36m1\u001b[0m\u001b[0;34m,\u001b[0m\u001b[0;36m2\u001b[0m\u001b[0;34m,\u001b[0m\u001b[0;36m3\u001b[0m\u001b[0;34m]\u001b[0m\u001b[0;34m,\u001b[0m\u001b[0;34m[\u001b[0m\u001b[0;36m1\u001b[0m\u001b[0;34m,\u001b[0m\u001b[0;36m2\u001b[0m\u001b[0;34m]\u001b[0m\u001b[0;34m]\u001b[0m\u001b[0;34m)\u001b[0m\u001b[0;34m\u001b[0m\u001b[0;34m\u001b[0m\u001b[0m\n\u001b[0m",
      "\u001b[0;31mNameError\u001b[0m: name 'twodimrecursive' is not defined"
     ]
    }
   ],
   "source": [
    "twodimrecursive([[1,2,3],[1,2]])"
   ]
  },
  {
   "cell_type": "markdown",
   "metadata": {},
   "source": [
    "#### Next, we will write a function that checks for the number of rows and columns of a matrix. \n",
    "\n",
    "Recall that the outer list will tell us the number of rows and the inner lists will tell us the number of columns. Make sure that all inner lists are of the same length."
   ]
  },
  {
   "cell_type": "code",
   "execution_count": 122,
   "metadata": {
    "ExecuteTime": {
     "end_time": "2020-01-21T22:50:34.967346Z",
     "start_time": "2020-01-21T22:50:34.955250Z"
    }
   },
   "outputs": [],
   "source": [
    "def rowcolumn(mat):\n",
    "    # This function takes a list of lists and returns the size of the rows and the columns \n",
    "    # Input: list of lists\n",
    "    # Output: Tuple of rows and columns\n",
    "    #\n",
    "    # Sample input: [[1,2,3],[4,5,6]]\n",
    "    # Sample Output: (2, 3)\n",
    "    \n",
    "    # Your code here:\n",
    "    \n",
    "    return (len(mat),len(mat[0]))\n",
    "\n",
    "\n",
    "# Con len(mat) saco el número de sublistas, rows, que hay dentro de mat.\n",
    "# Con len(mat[0]) saco el número de elementos que hay dentro de la primera sublista (que será el número de columnas)  "
   ]
  },
  {
   "cell_type": "code",
   "execution_count": 123,
   "metadata": {
    "ExecuteTime": {
     "end_time": "2020-01-21T22:50:35.538091Z",
     "start_time": "2020-01-21T22:50:35.531860Z"
    }
   },
   "outputs": [
    {
     "data": {
      "text/plain": [
       "(3, 4)"
      ]
     },
     "execution_count": 123,
     "metadata": {},
     "output_type": "execute_result"
    }
   ],
   "source": [
    "rowcolumn([[1,2,3,4], [1,2,3,4],[1,2,3,4]])"
   ]
  },
  {
   "cell_type": "markdown",
   "metadata": {},
   "source": [
    "#### Our next step is to write a function that compares two matrices and tells us whether they are of equal size.\n",
    "\n",
    "In this function we will check whether the number of rows and number of columns is the same."
   ]
  },
  {
   "cell_type": "code",
   "execution_count": 124,
   "metadata": {
    "ExecuteTime": {
     "end_time": "2020-01-21T22:50:38.328084Z",
     "start_time": "2020-01-21T22:50:38.322655Z"
    }
   },
   "outputs": [],
   "source": [
    "def compare(mat1, mat2):\n",
    "    # This function takes a two lists of lists and checks whether they have the same number of rows and columns\n",
    "    # Input: two list of lists\n",
    "    # Output: True or False\n",
    "    #\n",
    "    # Sample input: [[1,2,3],[4,5,6]], [[7,8,9], [10,11,12]]\n",
    "    # Sample Output: True\n",
    "    \n",
    "    # Your code here:\n",
    "    \n",
    "    if rowcolumn(mat1) == rowcolumn(mat2):\n",
    "        return True\n",
    "    else:\n",
    "        return False\n",
    "\n",
    "# No sé si se busca que lo saquemos de esta manera, pero me funciona.\n",
    "# Comparo tal cual la función del paso anterior, aplicada a mat1 y aplicada a mat2. Si son iguales, es mismo tamaño."
   ]
  },
  {
   "cell_type": "code",
   "execution_count": 125,
   "metadata": {
    "ExecuteTime": {
     "end_time": "2020-01-21T22:50:39.589192Z",
     "start_time": "2020-01-21T22:50:39.582039Z"
    }
   },
   "outputs": [
    {
     "data": {
      "text/plain": [
       "True"
      ]
     },
     "execution_count": 125,
     "metadata": {},
     "output_type": "execute_result"
    }
   ],
   "source": [
    "compare([[1,2,3],[4,5,6]], [[7,8,9], [10,11,12]])"
   ]
  },
  {
   "cell_type": "markdown",
   "metadata": {},
   "source": [
    "#### Now that we have all the tools we need, write a function that adds two matrices together. \n",
    "\n",
    "Remember that a matrix is represented as a list of lists. Therefore, we must add each element in the list. The plus symbol is used for concatenating two lists and not for adding every element in two lists."
   ]
  },
  {
   "cell_type": "code",
   "execution_count": 126,
   "metadata": {
    "ExecuteTime": {
     "end_time": "2020-01-21T22:50:41.619303Z",
     "start_time": "2020-01-21T22:50:41.611848Z"
    }
   },
   "outputs": [],
   "source": [
    "def addition(mat1, mat2):\n",
    "    # This function takes a two lists of lists and adds each cell together\n",
    "    # Input: two list of lists\n",
    "    # Output: one summed list of lists\n",
    "    #\n",
    "    # Sample input: [[1,2,3],[4,5,6]], [[7,8,9], [10,11,12]]\n",
    "    # Sample Output: [[8,10,12],[14,16,18]]\n",
    "    \n",
    "    # Your code here:\n",
    "\n",
    "    for i in range(len(mat1)): # i representa cada una de las sublistas dentro de mat1.\n",
    "        for j in range(len(mat1[i])): # j representa cada uno de los elementos de cada sublista. Iteramos uno por uno.\n",
    "            mat1[i][j] = mat1[i][j] + mat2[i][j] # sumamos los elementos de la misma posición en mat1 y en mat2\n",
    "            \n",
    "    return mat1\n",
    "\n",
    "# Creo que lo he interpretado bien, me he basado en ejemplos parecidos que he visto en internet. \n",
    "#El resultado que consigo es el que se pide, pero quiero comparar en la correción si había otra manera que entienda mejor."
   ]
  },
  {
   "cell_type": "code",
   "execution_count": 127,
   "metadata": {
    "ExecuteTime": {
     "end_time": "2020-01-21T22:50:42.735523Z",
     "start_time": "2020-01-21T22:50:42.723165Z"
    }
   },
   "outputs": [
    {
     "data": {
      "text/plain": [
       "[[8, 10, 12], [14, 16, 18]]"
      ]
     },
     "execution_count": 127,
     "metadata": {},
     "output_type": "execute_result"
    }
   ],
   "source": [
    "addition([[1,2,3],[4,5,6]], [[7,8,9], [10,11,12]])"
   ]
  },
  {
   "cell_type": "markdown",
   "metadata": {},
   "source": [
    "# Challenge 2 - Creating the Class\n",
    "\n",
    "In the cell below, you will be creating the class Matrix2D. Use the functions you have written above and tweak them according to the instructions in the comments. You got this!"
   ]
  },
  {
   "cell_type": "code",
   "execution_count": 128,
   "metadata": {
    "ExecuteTime": {
     "end_time": "2020-01-21T22:50:46.028611Z",
     "start_time": "2020-01-21T22:50:46.024766Z"
    }
   },
   "outputs": [],
   "source": [
    "class Matrix2D:\n",
    "    # First, we will write the __init__ function. \n",
    "    # In this function, we will initialize rows and the columns using the matrix that we have passed to the class.\n",
    "    \n",
    "    def __init__(self, mat):\n",
    "        # Assign mat to self.mat\n",
    "        # Assign rows and cols to self.rows and self.cols\n",
    "        # To find the rows and the cols, use the rowcolumn function and pass self.mat to the function.\n",
    "        # Since the rowcolumn function is now a member of the class, make sure to refer to the function as self.rowcolumn\n",
    "        \n",
    "        # Your code here:\n",
    "        \n",
    "        mat = self.mat\n",
    "        \n",
    "    \n",
    "    \n",
    "    # Insert the twodim function here.\n",
    "    # The only change you need to make is that now we are passing self and mat to the function (make sure self is first).\n",
    "    \n",
    "    # Your code here:\n",
    "\n",
    "    \n",
    "    # Insert the rowcolumn function here.\n",
    "    # The changes you need to make: \n",
    "    # 1. The function now takes self and mat as arguments (make sure to pass self first).\n",
    "    # 2. Any reference to twodim will be changed to self.twodim since this function is a member of the class and takes self \n",
    "    \n",
    "    # Your code here:\n",
    "\n",
    "    \n",
    "    \n",
    "    # Insert the compare function here\n",
    "    # Add self as the first argument passed to the function\n",
    "    \n",
    "    # Your code here:\n",
    "\n",
    "\n",
    "    # Insert the addition function here\n",
    "    # This function now takes self and matrix (another matrix of the Matrix2D class)\n",
    "    # Change the compare function to self.compare \n",
    "    # Change any reference to mat1 and mat2 to self.mat and matrix.mat respectively\n",
    "    # Return your result as a Matrix2D(result). This will ensure that we return a new matrix and not a list of lists.\n",
    "    \n",
    "    # Your code here:\n"
   ]
  },
  {
   "cell_type": "code",
   "execution_count": 20,
   "metadata": {},
   "outputs": [
    {
     "data": {
      "text/plain": [
       "[[8, 10, 12], [14, 16, 18]]"
      ]
     },
     "execution_count": 20,
     "metadata": {},
     "output_type": "execute_result"
    }
   ],
   "source": [
    "Matrix2D([[1,2,3],[4,5,6]]).addition(Matrix2D([[7,8,9],[10,11,12]])).mat"
   ]
  },
  {
   "cell_type": "markdown",
   "metadata": {},
   "source": [
    "# Bonus Challenge 2 - Transpose Function\n",
    "\n",
    "#### Write a function that transposes the matrix and add it to your class.\n",
    "\n",
    "You can read more about the transpose of a matrix [here](https://en.wikipedia.org/wiki/Transpose).\n",
    "\n",
    "Hint: Use the zip function. Read about it [here](https://docs.python.org/3.3/library/functions.html#zip)\n",
    "\n",
    "Second Hint: Read about the asterisk in Python [here](https://docs.python.org/3/reference/expressions.html#expression-lists)"
   ]
  },
  {
   "cell_type": "code",
   "execution_count": 129,
   "metadata": {
    "ExecuteTime": {
     "end_time": "2020-01-21T22:50:51.782187Z",
     "start_time": "2020-01-21T22:50:51.777698Z"
    }
   },
   "outputs": [],
   "source": [
    "def transpose(mat):\n",
    "    # This function takes a list of lists and returns a transposed list of lists.\n",
    "    # Input: list of lists\n",
    "    # Output: list of lists\n",
    "    \n",
    "    # Sample Input: [[1,2,3],[4,5,6]]\n",
    "    # Sample Output: [[1,4], [2,5], [3,6]]\n",
    "    \n",
    "    # Your code here:\n",
    "    \n",
    "    mat1 = mat[0]\n",
    "    mat2 = mat[1]\n",
    "    \n",
    "    mat_zipped = zip(mat1,mat2)\n",
    "    \n",
    "    transposed_list = list(mat_zipped)\n",
    "    \n",
    "    print(transposed_list)\n",
    "    \n",
    "#No he usado la second hint del asterisco, así que no sé si está bien. Pero el output que tengo es lo que se pide.\n",
    "#He seguido tal cual el mismo ejemplo del enlace del primer hint. Si no, no lo hubiera sabido interpretar."
   ]
  },
  {
   "cell_type": "code",
   "execution_count": 130,
   "metadata": {
    "ExecuteTime": {
     "end_time": "2020-01-21T22:50:52.708096Z",
     "start_time": "2020-01-21T22:50:52.701905Z"
    }
   },
   "outputs": [
    {
     "name": "stdout",
     "output_type": "stream",
     "text": [
      "[(1, 4), (2, 5), (3, 6)]\n"
     ]
    }
   ],
   "source": [
    "transpose([[1,2,3],[4,5,6]])"
   ]
  }
 ],
 "metadata": {
  "kernelspec": {
   "display_name": "Python 3",
   "language": "python",
   "name": "python3"
  },
  "language_info": {
   "codemirror_mode": {
    "name": "ipython",
    "version": 3
   },
   "file_extension": ".py",
   "mimetype": "text/x-python",
   "name": "python",
   "nbconvert_exporter": "python",
   "pygments_lexer": "ipython3",
   "version": "3.8.0"
  },
  "toc": {
   "base_numbering": 1,
   "nav_menu": {},
   "number_sections": true,
   "sideBar": true,
   "skip_h1_title": false,
   "title_cell": "Table of Contents",
   "title_sidebar": "Contents",
   "toc_cell": false,
   "toc_position": {},
   "toc_section_display": true,
   "toc_window_display": false
  },
  "varInspector": {
   "cols": {
    "lenName": 16,
    "lenType": 16,
    "lenVar": 40
   },
   "kernels_config": {
    "python": {
     "delete_cmd_postfix": "",
     "delete_cmd_prefix": "del ",
     "library": "var_list.py",
     "varRefreshCmd": "print(var_dic_list())"
    },
    "r": {
     "delete_cmd_postfix": ") ",
     "delete_cmd_prefix": "rm(",
     "library": "var_list.r",
     "varRefreshCmd": "cat(var_dic_list()) "
    }
   },
   "types_to_exclude": [
    "module",
    "function",
    "builtin_function_or_method",
    "instance",
    "_Feature"
   ],
   "window_display": false
  }
 },
 "nbformat": 4,
 "nbformat_minor": 2
}
